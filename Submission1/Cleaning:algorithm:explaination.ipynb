{
 "cells": [
  {
   "cell_type": "markdown",
   "metadata": {},
   "source": [
    "## Load Data\n",
    "\n",
    "Load the data from csv file. It contains 1655 records. Each record has these values:     \n",
    "\n",
    "**Predictor Variables:**\n",
    "1. Open Price   \n",
    "2. Close Price            \n",
    "3. High Price  \n",
    "4. Low Price                          \n",
    "5. Volume              \n",
    "6. Market Cap       \n",
    "\n",
    "The goal is to be able to predict what bitcoin will increase in value on a day to day basis"
   ]
  },
  {
   "cell_type": "code",
   "execution_count": 2,
   "metadata": {},
   "outputs": [
    {
     "data": {
      "text/html": [
       "<div>\n",
       "<style>\n",
       "    .dataframe thead tr:only-child th {\n",
       "        text-align: right;\n",
       "    }\n",
       "\n",
       "    .dataframe thead th {\n",
       "        text-align: left;\n",
       "    }\n",
       "\n",
       "    .dataframe tbody tr th {\n",
       "        vertical-align: top;\n",
       "    }\n",
       "</style>\n",
       "<table border=\"1\" class=\"dataframe\">\n",
       "  <thead>\n",
       "    <tr style=\"text-align: right;\">\n",
       "      <th></th>\n",
       "      <th>Date</th>\n",
       "      <th>Open</th>\n",
       "      <th>High</th>\n",
       "      <th>Low</th>\n",
       "      <th>Close</th>\n",
       "      <th>Volume</th>\n",
       "      <th>Market Cap</th>\n",
       "    </tr>\n",
       "  </thead>\n",
       "  <tbody>\n",
       "    <tr>\n",
       "      <th>0</th>\n",
       "      <td>Nov 07, 2017</td>\n",
       "      <td>7023.10</td>\n",
       "      <td>7253.32</td>\n",
       "      <td>7023.10</td>\n",
       "      <td>7144.38</td>\n",
       "      <td>2,326,340,000</td>\n",
       "      <td>117,056,000,000</td>\n",
       "    </tr>\n",
       "    <tr>\n",
       "      <th>1</th>\n",
       "      <td>Nov 06, 2017</td>\n",
       "      <td>7403.22</td>\n",
       "      <td>7445.77</td>\n",
       "      <td>7007.31</td>\n",
       "      <td>7022.76</td>\n",
       "      <td>3,111,900,000</td>\n",
       "      <td>123,379,000,000</td>\n",
       "    </tr>\n",
       "    <tr>\n",
       "      <th>2</th>\n",
       "      <td>Nov 05, 2017</td>\n",
       "      <td>7404.52</td>\n",
       "      <td>7617.48</td>\n",
       "      <td>7333.19</td>\n",
       "      <td>7407.41</td>\n",
       "      <td>2,380,410,000</td>\n",
       "      <td>123,388,000,000</td>\n",
       "    </tr>\n",
       "    <tr>\n",
       "      <th>3</th>\n",
       "      <td>Nov 04, 2017</td>\n",
       "      <td>7164.48</td>\n",
       "      <td>7492.86</td>\n",
       "      <td>7031.28</td>\n",
       "      <td>7379.95</td>\n",
       "      <td>2,483,800,000</td>\n",
       "      <td>119,376,000,000</td>\n",
       "    </tr>\n",
       "    <tr>\n",
       "      <th>4</th>\n",
       "      <td>Nov 03, 2017</td>\n",
       "      <td>7087.53</td>\n",
       "      <td>7461.29</td>\n",
       "      <td>7002.94</td>\n",
       "      <td>7207.76</td>\n",
       "      <td>3,369,860,000</td>\n",
       "      <td>118,084,000,000</td>\n",
       "    </tr>\n",
       "  </tbody>\n",
       "</table>\n",
       "</div>"
      ],
      "text/plain": [
       "           Date     Open     High      Low    Close         Volume  \\\n",
       "0  Nov 07, 2017  7023.10  7253.32  7023.10  7144.38  2,326,340,000   \n",
       "1  Nov 06, 2017  7403.22  7445.77  7007.31  7022.76  3,111,900,000   \n",
       "2  Nov 05, 2017  7404.52  7617.48  7333.19  7407.41  2,380,410,000   \n",
       "3  Nov 04, 2017  7164.48  7492.86  7031.28  7379.95  2,483,800,000   \n",
       "4  Nov 03, 2017  7087.53  7461.29  7002.94  7207.76  3,369,860,000   \n",
       "\n",
       "        Market Cap  \n",
       "0  117,056,000,000  \n",
       "1  123,379,000,000  \n",
       "2  123,388,000,000  \n",
       "3  119,376,000,000  \n",
       "4  118,084,000,000  "
      ]
     },
     "execution_count": 2,
     "metadata": {},
     "output_type": "execute_result"
    }
   ],
   "source": [
    "import pandas as pd\n",
    "import numpy as np\n",
    "import matplotlib.pyplot as plt\n",
    "%matplotlib inline\n",
    "\n",
    "df = pd.read_csv('./data/bitcoin_price.csv', sep=',',header=0)\n",
    "df.head()"
   ]
  },
  {
   "cell_type": "markdown",
   "metadata": {},
   "source": [
    "## Preprocessing: \n",
    "### 1. Normalizing the data\n",
    "#### 1.1. Distribution of mean price\n",
    "\n",
    "By normalizing the data we can ensure that "
   ]
  },
  {
   "cell_type": "code",
   "execution_count": 3,
   "metadata": {
    "collapsed": true
   },
   "outputs": [],
   "source": [
    "from sklearn import preprocessing\n",
    "df = df.assign(Mean = (df['Open'] + df['Close']) / 2.)\n",
    "x=df['Mean']\n",
    "df = df.assign(normalize = preprocessing.scale(x))\n"
   ]
  },
  {
   "cell_type": "code",
   "execution_count": 4,
   "metadata": {},
   "outputs": [
    {
     "data": {
      "image/png": "[encoded data removed]",
      "text/plain": [
       "<matplotlib.figure.Figure at 0x112e9c5d0>"
      ]
     },
     "metadata": {},
     "output_type": "display_data"
    }
   ],
   "source": [
    "from scipy.stats.kde import gaussian_kde\n",
    "def kde_plot(x):   \n",
    "    kde = gaussian_kde(x)\n",
    "    positions = np.linspace(x.min(), x.max())\n",
    "    smoothed = kde(positions)\n",
    "    plt.plot(positions, smoothed)\n",
    "    \n",
    "def kde_values(x):   \n",
    "    kde = gaussian_kde(x)\n",
    "    positions = np.linspace(x.min(), x.max())\n",
    "    smoothed = kde(positions)\n",
    "    return positions, smoothed\n",
    "\n",
    "x=x.dropna()\n",
    "kde_plot(x)\n",
    "plt.title(\"Distribution of mean prices\")\n",
    "plt.show()"
   ]
  },
  {
   "cell_type": "markdown",
   "metadata": {},
   "source": [
    "### Distribution of the difference in price\n",
    "\n",
    "Uses the normalized data to find the distribution of price differentiation between days.\n",
    "Basically, how many instances are far away from the pervious days price or close."
   ]
  },
  {
   "cell_type": "code",
   "execution_count": 5,
   "metadata": {},
   "outputs": [
    {
     "data": {
      "image/png": "[encoded data removed]",
      "text/plain": [
       "<matplotlib.figure.Figure at 0x112e8bc50>"
      ]
     },
     "metadata": {},
     "output_type": "display_data"
    }
   ],
   "source": [
    "df = df.assign(Diff = df['normalize'].diff())\n",
    "df.head()\n",
    "x = df['Diff'].dropna()\n",
    "kde_plot(x)\n",
    "plt.title(\"Distribution of difference in prices\")\n",
    "plt.show()\n"
   ]
  },
  {
   "cell_type": "markdown",
   "metadata": {},
   "source": [
    "### Changing outlier data\n",
    "This finds the outliers that are far diffrent from the previous days and the nexts days, if they are it gets rid of the spike and finds a mean between the two"
   ]
  },
  {
   "cell_type": "code",
   "execution_count": 6,
   "metadata": {},
   "outputs": [
    {
     "data": {
      "image/png": "[encoded data removed]",
      "text/plain": [
       "<matplotlib.figure.Figure at 0x112e8be90>"
      ]
     },
     "metadata": {},
     "output_type": "display_data"
    }
   ],
   "source": [
    "for y in range(len(df) - 1):\n",
    "    if (df.loc[y,'Diff'] > .1 and df.loc[y+1,'Diff'] > .1) or (df.loc[y,'Diff'] < -.1 and df.loc[y+1,'Diff'] < -.1):\n",
    "        df.loc[y,'Mean'] = (df.loc[y-1,'Mean'] + df.loc[y+1,'Mean']) / 2.\n",
    "        df.loc[y,'High'] = (df.loc[y-1,'High'] + df.loc[y+1,'High']) / 2.\n",
    "        df.loc[y,'Open'] = (df.loc[y-1,'Open'] + df.loc[y+1,'Open']) / 2.\n",
    "        df.loc[y,'Close'] = (df.loc[y-1,'Close'] + df.loc[y+1,'Close']) / 2.\n",
    "        df.loc[y,'Low'] = (df.loc[y-1,'Low'] + df.loc[y+1,'Low']) / 2.\n",
    "\n",
    "df['normalize'] = preprocessing.scale(df['Mean'])\n",
    "df['Diff'] = df['normalize'].diff()  \n",
    "x = df['Diff'].dropna()\n",
    "kde_plot(x)\n",
    "plt.title(\"Distribution of difference in prices after dropping outliers\")\n",
    "plt.show()"
   ]
  },
  {
   "cell_type": "markdown",
   "metadata": {},
   "source": [
    "## Processing the data\n",
    "### Uses a random forest to mine the data\n",
    "\n",
    "These results show that our random forest classifier is about 98% correct with the same dataset we passed it.\n",
    "\n",
    "The features of this dataset correspond to each column.  These features are printed out last. These features show that Open data is more important while Close data is least important."
   ]
  },
  {
   "cell_type": "code",
   "execution_count": 37,
   "metadata": {},
   "outputs": [
    {
     "name": "stdout",
     "output_type": "stream",
     "text": [
      "(1655,)\n",
      "(1655, 4)\n",
      "classif_rate for RandomForestClassifier : 98.368580 \n",
      "[ 0.32851618  0.19046712  0.20003087  0.28098583]\n"
     ]
    }
   ],
   "source": [
    "df['Class'] = df['Close'] > df['Open'] #Creates a class analysis for the data\n",
    "\n",
    "from sklearn.ensemble import RandomForestClassifier\n",
    "y=df.iloc[:,-1].fillna(df.mean()).as_matrix()\n",
    "x=df.iloc[:,1:5].fillna(df.mean()).as_matrix()\n",
    "rfc = RandomForestClassifier(max_depth=25, random_state=0)  #Inits rfc\n",
    "\n",
    "print y.shape\n",
    "print x.shape\n",
    "\n",
    "x = preprocessing.StandardScaler().fit_transform(x)  #normalizes data\n",
    "rfc.fit(x,y)  #Builds tree\n",
    "y_pred = rfc.predict(x)    #Runs same data through tree\n",
    "classif_rate = np.mean(y_pred.ravel() == y.ravel()) * 100   #Correct rate\n",
    "print(\"classif_rate for %s : %f \" % ('RandomForestClassifier', classif_rate))   \n",
    "print rfc.feature_importances_   #prints the features\n"
   ]
  },
  {
   "cell_type": "code",
   "execution_count": null,
   "metadata": {
    "collapsed": true
   },
   "outputs": [],
   "source": []
  }
 ],
 "metadata": {
  "kernelspec": {
   "display_name": "Python 2",
   "language": "python",
   "name": "python2"
  },
  "language_info": {
   "codemirror_mode": {
    "name": "ipython",
    "version": 2
   },
   "file_extension": ".py",
   "mimetype": "text/x-python",
   "name": "python",
   "nbconvert_exporter": "python",
   "pygments_lexer": "ipython2",
   "version": "2.7.13"
  }
 },
 "nbformat": 4,
 "nbformat_minor": 2
}
